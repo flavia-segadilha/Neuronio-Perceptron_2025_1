{
  "nbformat": 4,
  "nbformat_minor": 0,
  "metadata": {
    "colab": {
      "provenance": [],
      "include_colab_link": true
    },
    "kernelspec": {
      "name": "python3",
      "display_name": "Python 3"
    },
    "language_info": {
      "name": "python"
    }
  },
  "cells": [
    {
      "cell_type": "markdown",
      "metadata": {
        "id": "view-in-github",
        "colab_type": "text"
      },
      "source": [
        "<a href=\"https://colab.research.google.com/github/flavia-segadilha/Neuronio-Perceptron_2025_1/blob/main/NeuronioPerceptron.ipynb\" target=\"_parent\"><img src=\"https://colab.research.google.com/assets/colab-badge.svg\" alt=\"Open In Colab\"/></a>"
      ]
    },
    {
      "cell_type": "markdown",
      "source": [
        "# Redes Neurais Artificiais – Projeto Prático 2.1\n",
        "## Aprendizado Supervisionado no Neurônio Perceptron\n",
        "Neste projeto prático, o objetivo é implementar o algoritmo de treinamento mediante Aprendizado Supervisionado do neurônio Perceptron de Rosenblatt aplicado em problemas de classificação.\n",
        "\n",
        "---\n",
        "\n",
        "### Equipe:\n",
        "\n",
        "\n",
        "*   Adriana Raffaella Dos Santos Fonseca\n",
        "*   Ana Flavia de Castro Segadilha da Silva\n",
        "*   Guilherme Gonçalves Moraes\n",
        "*   Yago De Oliveira Feitoza\n",
        "\n"
      ],
      "metadata": {
        "id": "DXvNH2M_KCWm"
      }
    },
    {
      "cell_type": "markdown",
      "source": [
        "## Bibliotecas"
      ],
      "metadata": {
        "id": "bZDiUuvUYBIr"
      }
    },
    {
      "cell_type": "code",
      "execution_count": null,
      "metadata": {
        "id": "6VPkcUDJJpir"
      },
      "outputs": [],
      "source": [
        "#Importação das bibliotecas\n",
        "import numpy as np\n",
        "import matplotlib.pyplot as plt\n",
        "import pandas as pd\n",
        "import random\n",
        "import math\n",
        "from prettytable import PrettyTable\n",
        "from sklearn.linear_model import LogisticRegression\n",
        "from sklearn.model_selection import train_test_split\n",
        "from sklearn.preprocessing import StandardScaler\n",
        "from sklearn.metrics import accuracy_score"
      ]
    },
    {
      "cell_type": "markdown",
      "source": [
        "## Parte I – Resolvendo um Problema Linearmente Separável"
      ],
      "metadata": {
        "id": "06EKwmY9Yh1Z"
      }
    },
    {
      "cell_type": "code",
      "source": [],
      "metadata": {
        "id": "YG115VpoYoHE"
      },
      "execution_count": null,
      "outputs": []
    }
  ]
}